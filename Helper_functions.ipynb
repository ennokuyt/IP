{
 "cells": [
  {
   "cell_type": "code",
   "execution_count": 1,
   "metadata": {},
   "outputs": [],
   "source": [
    "def make_dict(role_list, dict_type):\n",
    "    'Be aware, this function includes a lot of hardcoding, which makes it less versatile. '\n",
    "    'However it does make it convenient for choosing exact colors for specific roles. '\n",
    "    'It is important to have the same order of roles as much as possible. '\n",
    "    \n",
    "    # Set color dict\n",
    "    if dict_type == 'color':\n",
    "        return_dict = {role_list[0]: 'red'} | dict.fromkeys(role_list[1], 'orange') | \\\n",
    "        dict.fromkeys(role_list[2], 'yellow') | dict.fromkeys(role_list[3], 'blue') | \\\n",
    "        dict.fromkeys(role_list[4], 'green') | dict.fromkeys(role_list[5], 'pink')\n",
    "        \n",
    "    # Set business name dict\n",
    "    elif dict_type == 'business_name':\n",
    "        return_dict = {role_list[0]: 'kingpin_main'} | \\\n",
    "        {c:'kingpin_'+str(i) for i, c in enumerate(role_list[1])} | \\\n",
    "        {c:'orphan_'+str(i) for i, c in enumerate(role_list[2])} | \\\n",
    "        {c:'broker_'+str(i) for i, c in enumerate(role_list[3])} | \\\n",
    "        {c:'dealer_'+str(i) for i, c in enumerate(role_list[4])} | \\\n",
    "        {c:'coordinator_'+str(i) for i, c in enumerate(role_list[5])}\n",
    "        \n",
    "    # Set family name dict\n",
    "    elif dict_type == 'family_name':\n",
    "        return_dict = {role_list[0]: 'father_main'} | \\\n",
    "        {c:'cousin_'+str(i) for i, c in enumerate(role_list[1])} | \\\n",
    "        {c:'brother_'+str(i) for i, c in enumerate(role_list[2])} | \\\n",
    "        {c:'friend_'+str(i) for i, c in enumerate(role_list[3])} | \\\n",
    "        {c:'driver_'+str(i) for i, c in enumerate(role_list[4])} | \\\n",
    "        {c:'contact_'+str(i) for i, c in enumerate(role_list[5])}\n",
    "        \n",
    "    elif dict_type == 'weight':\n",
    "        return_dict = {role_list[0]: 100} | dict.fromkeys(role_list[1], 75) | \\\n",
    "        dict.fromkeys(role_list[2], 90) | dict.fromkeys(role_list[3], 50) | \\\n",
    "        dict.fromkeys(role_list[4], 40) | dict.fromkeys(role_list[5], 30)\n",
    "        \n",
    "    return return_dict"
   ]
  },
  {
   "cell_type": "code",
   "execution_count": 2,
   "metadata": {},
   "outputs": [],
   "source": [
    "def add_edge_list(G, role_list1, role_list2, prob, role_color, role_weight, interconnected=False):\n",
    "    'Function to add edges according to the input parameters'\n",
    "    \n",
    "    # Regular edges\n",
    "    for c in role_list1:\n",
    "        edge_list = []\n",
    "        for x in role_list2:\n",
    "            if ((c is not x) and (random.uniform(0, 1) < prob)):\n",
    "                if (c, x) in G.edges():\n",
    "                    G.remove_edge(c, x)\n",
    "                elif (x, c) in G.edges():\n",
    "                    G.remove_edge(x, c)\n",
    "                edge_list += [(c, x)]\n",
    "        G.add_edges_from(edge_list, color=role_color, weight=role_weight)   \n",
    "    \n",
    "    # Interconnected edges between same group\n",
    "    if interconnected:\n",
    "        for c in role_list1:\n",
    "            edge_list = []\n",
    "            for x in role_list1:\n",
    "                if c is not x:\n",
    "                    if (c, x) in G.edges():\n",
    "                        G.remove_edge(c, x)\n",
    "                    elif (x, c) in G.edges():\n",
    "                        G.remove_edge(x, c)\n",
    "                    edge_list += [(c, x)]\n",
    "            G.add_edges_from(edge_list, color=role_color, weight=role_weight)   "
   ]
  },
  {
   "cell_type": "code",
   "execution_count": null,
   "metadata": {},
   "outputs": [],
   "source": []
  }
 ],
 "metadata": {
  "kernelspec": {
   "display_name": "Python 3",
   "language": "python",
   "name": "python3"
  },
  "language_info": {
   "codemirror_mode": {
    "name": "ipython",
    "version": 3
   },
   "file_extension": ".py",
   "mimetype": "text/x-python",
   "name": "python",
   "nbconvert_exporter": "python",
   "pygments_lexer": "ipython3",
   "version": "3.9.0"
  }
 },
 "nbformat": 4,
 "nbformat_minor": 4
}
